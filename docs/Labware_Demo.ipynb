{
 "cells": [
  {
   "cell_type": "code",
   "execution_count": null,
   "metadata": {},
   "outputs": [],
   "source": [
    "import sys\n",
    "\n",
    "sys.path.append( '../')\n",
    "sys.path.append('../science_jubilee/')\n",
    "# sys.path.append(\"C:/Users/meryp/Desktop/research/packages/bayesopt/\")\n",
    "\n",
    "from science_jubilee import Machine as Jub\n",
    "from labware.Labware import Labware\n"
   ]
  }
 ],
 "metadata": {
  "language_info": {
   "name": "python"
  }
 },
 "nbformat": 4,
 "nbformat_minor": 2
}
