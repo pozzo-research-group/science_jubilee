{
 "cells": [
  {
   "cell_type": "markdown",
   "id": "bb6e0e88",
   "metadata": {},
   "source": [
    "## Let's explore the Labware object\n",
    "\n",
    "Let's start by importing the `Labware` module"
   ]
  },
  {
   "cell_type": "code",
   "execution_count": 1,
   "id": "ca4352ca",
   "metadata": {},
   "outputs": [],
   "source": [
    "from labware.Labware import Labware"
   ]
  },
  {
   "cell_type": "markdown",
   "id": "a068f48c",
   "metadata": {},
   "source": [
    "### 1. Load a labware file\n",
    "\n",
    "Labware files follow the same structure as the *Opentrons Labware Definition*. In fact, it is possible to use the [Opentrons Library files](https://github.com/Opentrons/opentrons/tree/5f8e7f60ba80d3a36f42e029f14c216f3f7390fa/shared-data/labware/definitions/2) directly or create a custom one using their [*Custom Labware Creator*](https://labware.opentrons.com/create). All labware definition files can either be stored locally in any folder of your computer or for easier reference can be added to the `labware/labware_definition/` folder in the repository. \n",
    "\n",
    "**Naming Convention**: we decided to follow the same naming strategy as Opentrons. In this case, the standard is `<brand_numberOfWells_labwareType_wellVolume>.json` (e.g., *biorad_96_wellplate_200ul_pcr.json*)\n",
    "\n",
    "*Note*: If you choose to use a file already present in the [Opentrons Library ](https://github.com/Opentrons/opentrons/tree/5f8e7f60ba80d3a36f42e029f14c216f3f7390fa/shared-data/labware/definitions/2), navigate to its folder, download it and make sure to change the file name to reflect the actualy labware (i.e., change it to the folder name)"
   ]
  },
  {
   "cell_type": "code",
   "execution_count": 14,
   "id": "4a7e9ac8",
   "metadata": {},
   "outputs": [
    {
     "data": {
      "text/plain": [
       "wellPlate: 20mlscintillation_12_wellplate_18000ul"
      ]
     },
     "execution_count": 14,
     "metadata": {},
     "output_type": "execute_result"
    }
   ],
   "source": [
    "#define the file name ( .json can be omitted here)\n",
    "labware_file = '20mlscintillation_12_wellplate_18000ul'\n",
    "lab = Labware(labware_file)\n",
    "lab"
   ]
  },
  {
   "cell_type": "markdown",
   "id": "9aa00a07",
   "metadata": {},
   "source": [
    "If you only indicate the labware_filename, the `path` of the file will taken as the `labware/labware_definition`. You can also load a file from a different path, by just adding it as a keywork argument."
   ]
  },
  {
   "cell_type": "code",
   "execution_count": null,
   "id": "07f5e25e",
   "metadata": {},
   "outputs": [],
   "source": [
    "labware_path = 'path/to/my/labware/file'\n",
    "lab = Labware(labware_file, path = labware_path)"
   ]
  },
  {
   "cell_type": "markdown",
   "id": "07e02e3b",
   "metadata": {},
   "source": [
    "### 2. Well Object\n",
    "\n",
    "A Labware is defined as a set of individual `Well`s. Each of them is a `dataclass` that stores information on its location, geometry, and more. Let's explore it here briefly."
   ]
  },
  {
   "cell_type": "markdown",
   "id": "0c6933d0",
   "metadata": {},
   "source": [
    "*A.* First of all, you can call each `Well` based on its *name* (i.e., *RowLetter ColumnNumber*), or by its *index* (i.e., 0,1,...n )"
   ]
  },
  {
   "cell_type": "code",
   "execution_count": 19,
   "id": "7091aef9",
   "metadata": {},
   "outputs": [
    {
     "data": {
      "text/plain": [
       "Well(name='C3', depth=53, totalLiquidVolume=18000, shape='circular', diameter=27.85, xDimension=None, yDimension=None, x=77.47, y=15.03, z=7.5, offset=None)"
      ]
     },
     "execution_count": 19,
     "metadata": {},
     "output_type": "execute_result"
    }
   ],
   "source": [
    "lab['C3']"
   ]
  },
  {
   "cell_type": "code",
   "execution_count": 18,
   "id": "53e3df86",
   "metadata": {
    "scrolled": true
   },
   "outputs": [
    {
     "data": {
      "text/plain": [
       "Well(name='C3', depth=53, totalLiquidVolume=18000, shape='circular', diameter=27.85, xDimension=None, yDimension=None, x=77.47, y=15.03, z=7.5, offset=None)"
      ]
     },
     "execution_count": 18,
     "metadata": {},
     "output_type": "execute_result"
    }
   ],
   "source": [
    "lab[10]"
   ]
  },
  {
   "cell_type": "markdown",
   "id": "3e9bfc1d",
   "metadata": {},
   "source": [
    "*B.* Each attribute of the `Well` can be easily accessed"
   ]
  },
  {
   "cell_type": "code",
   "execution_count": 20,
   "id": "0933c8fb",
   "metadata": {},
   "outputs": [
    {
     "data": {
      "text/plain": [
       "77.47"
      ]
     },
     "execution_count": 20,
     "metadata": {},
     "output_type": "execute_result"
    }
   ],
   "source": [
    "lab['C3'].x"
   ]
  },
  {
   "cell_type": "code",
   "execution_count": 21,
   "id": "919cbb2e",
   "metadata": {},
   "outputs": [
    {
     "data": {
      "text/plain": [
       "53"
      ]
     },
     "execution_count": 21,
     "metadata": {},
     "output_type": "execute_result"
    }
   ],
   "source": [
    "lab['C3'].depth # the total depth from the well's top"
   ]
  },
  {
   "cell_type": "markdown",
   "id": "7c904660",
   "metadata": {},
   "source": [
    "*C.* There are also some properties of the `Well`"
   ]
  },
  {
   "cell_type": "code",
   "execution_count": 22,
   "id": "15e8a5bf",
   "metadata": {},
   "outputs": [
    {
     "data": {
      "text/plain": [
       "60.5"
      ]
     },
     "execution_count": 22,
     "metadata": {},
     "output_type": "execute_result"
    }
   ],
   "source": [
    "lab[10].top # the actual top of the well"
   ]
  },
  {
   "cell_type": "code",
   "execution_count": 23,
   "id": "43803268",
   "metadata": {},
   "outputs": [
    {
     "data": {
      "text/plain": [
       "7.5"
      ]
     },
     "execution_count": 23,
     "metadata": {},
     "output_type": "execute_result"
    }
   ],
   "source": [
    "lab[10].bottom"
   ]
  },
  {
   "cell_type": "markdown",
   "id": "2a9b153f",
   "metadata": {},
   "source": [
    "### 3. Well Order\n",
    "\n",
    "It is possible to load a labware and define the `Well` ordering you prefer (i.e., by rows or by columns). \n",
    "To do so, you can either specify it during the instatiation of the `Labware` object using the keywork argument `order`.\n",
    "\n",
    "*Note*: the default is ordering by *rows*"
   ]
  },
  {
   "cell_type": "code",
   "execution_count": 25,
   "id": "1239f391",
   "metadata": {},
   "outputs": [
    {
     "data": {
      "text/plain": [
       "dict_keys(['A1', 'A2', 'A3', 'A4', 'B1', 'B2', 'B3', 'B4', 'C1', 'C2', 'C3', 'C4'])"
      ]
     },
     "execution_count": 25,
     "metadata": {},
     "output_type": "execute_result"
    }
   ],
   "source": [
    "# check the current well ordering of the labware just loaded\n",
    "lab.wells.keys()"
   ]
  },
  {
   "cell_type": "markdown",
   "id": "92576043",
   "metadata": {},
   "source": [
    "The labdware loaded without indicating any order preference, does in fact show a row-wise list of the well. \n",
    "\n",
    "Now to change that, we can just call the method `withWellOrder()` and indicate columns as our preferred `Well` arrangement."
   ]
  },
  {
   "cell_type": "code",
   "execution_count": 27,
   "id": "85d6061d",
   "metadata": {},
   "outputs": [
    {
     "data": {
      "text/plain": [
       "dict_keys(['A1', 'B1', 'C1', 'A2', 'B2', 'C2', 'A3', 'B3', 'C3', 'A4', 'B4', 'C4'])"
      ]
     },
     "execution_count": 27,
     "metadata": {},
     "output_type": "execute_result"
    }
   ],
   "source": [
    "lab.withWellOrder('columns')\n",
    "lab.wells.keys()"
   ]
  },
  {
   "cell_type": "markdown",
   "id": "7e3a58be",
   "metadata": {},
   "source": [
    "It is also possible to do so while loading the labware configuration file."
   ]
  },
  {
   "cell_type": "code",
   "execution_count": 29,
   "id": "b658640c",
   "metadata": {},
   "outputs": [
    {
     "data": {
      "text/plain": [
       "dict_keys(['A1', 'B1', 'C1', 'A2', 'B2', 'C2', 'A3', 'B3', 'C3', 'A4', 'B4', 'C4'])"
      ]
     },
     "execution_count": 29,
     "metadata": {},
     "output_type": "execute_result"
    }
   ],
   "source": [
    "new_labware = Labware(labware_file, order='cols')\n",
    "new_labware.wells.keys()"
   ]
  },
  {
   "cell_type": "markdown",
   "id": "e9ecb4f2",
   "metadata": {},
   "source": [
    "### 4. Offset\n",
    "\n",
    "It is possible to offset all the well coordinates by an arbitrary amount in all 3-dimensions. \n",
    "This is actually how the labware is *loaded* onto the deck object. Once you select a `deck.slots` to host your labware, its coordinates will be adjustated to take into account the slot corner. It is also possible to complete this manually- see the examples below"
   ]
  },
  {
   "cell_type": "code",
   "execution_count": 10,
   "id": "72278f1e",
   "metadata": {},
   "outputs": [
    {
     "name": "stdout",
     "output_type": "stream",
     "text": [
      "Well Coordinates for well A1\n",
      "x: 23.81\n",
      "y: 73.69\n",
      "z: 10.95\n"
     ]
    }
   ],
   "source": [
    "print('Well Coordinates for well {}'.format(lab[0].name))\n",
    "print('x: {}'.format(lab[0].x))\n",
    "print('y: {}'.format(lab[0].y))\n",
    "print('z: {}'.format(lab[0].z))"
   ]
  },
  {
   "cell_type": "markdown",
   "id": "63f44696",
   "metadata": {},
   "source": [
    " Let's apply an offset to the labware object and check the coordinates again"
   ]
  },
  {
   "cell_type": "code",
   "execution_count": 11,
   "id": "5bc59fd4",
   "metadata": {},
   "outputs": [
    {
     "name": "stdout",
     "output_type": "stream",
     "text": [
      "Coordinates after offset\n",
      "x: 23.81\n",
      "y: 73.69\n",
      "z: 10.95\n"
     ]
    }
   ],
   "source": [
    "lab.offset = (2.0, 3, 3.45)\n",
    "print('Coordinates after offset')\n",
    "print('x: {}'.format(lab[0].x))\n",
    "print('y: {}'.format(lab[0].y))\n",
    "print('z: {}'.format(lab[0].z))"
   ]
  },
  {
   "cell_type": "markdown",
   "id": "c2d15f90",
   "metadata": {},
   "source": [
    "The offset applied is also saved as a `Labware` attribute too for the user reference "
   ]
  },
  {
   "cell_type": "code",
   "execution_count": 12,
   "id": "2027a50d",
   "metadata": {},
   "outputs": [
    {
     "name": "stdout",
     "output_type": "stream",
     "text": [
      "Offset : (2.0, 3, 3.45)\n"
     ]
    }
   ],
   "source": [
    "print('Offset : {}'.format(lab[0].offset))"
   ]
  }
 ],
 "metadata": {
  "kernelspec": {
   "display_name": "Python 3 (ipykernel)",
   "language": "python",
   "name": "python3"
  },
  "language_info": {
   "codemirror_mode": {
    "name": "ipython",
    "version": 3
   },
   "file_extension": ".py",
   "mimetype": "text/x-python",
   "name": "python",
   "nbconvert_exporter": "python",
   "pygments_lexer": "ipython3",
   "version": "3.9.12"
  }
 },
 "nbformat": 4,
 "nbformat_minor": 5
}
